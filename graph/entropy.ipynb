{
 "cells": [
  {
   "cell_type": "code",
   "execution_count": 43,
   "metadata": {},
   "outputs": [],
   "source": [
    "from math import log2\n",
    "\n",
    "data = {'a':{\n",
    "        'total':6,\n",
    "        'part':[4,2]\n",
    "},\n",
    "        'b':{\n",
    "        'total':7,  \n",
    "        'part':[5,2]\n",
    "}}\n",
    "\n",
    "\n",
    "def get_info_gain(data):\n",
    "    list_ent = []\n",
    "    for i in data:\n",
    "        ent = entropy(data[i]['part'],data[i]['total'])\n",
    "        list_ent.append(ent)\n",
    "    print(list_ent)\n",
    "\n",
    "    IG = 0.9957 - sum(data[i]['total']/13*list_ent[idx] for idx, i in enumerate(data))\n",
    "\n",
    "    return IG\n",
    "\n",
    "def entropy(x,total):\n",
    "    prob = []\n",
    "    for i in x:\n",
    "        prob.append(i/total)\n",
    "\n",
    "    def equation(var):\n",
    "        if var == 0:\n",
    "            return 0\n",
    "        return -(var*log2(var))   \n",
    "    \n",
    "    return sum(equation(i) for i in prob)\n",
    "\n"
   ]
  },
  {
   "cell_type": "code",
   "execution_count": 44,
   "metadata": {},
   "outputs": [
    {
     "name": "stdout",
     "output_type": "stream",
     "text": [
      "[0.9182958340544896, 0.863120568566631]\n",
      "0.10711392428512667\n"
     ]
    }
   ],
   "source": [
    "IG= get_info_gain(data) \n",
    "print(IG)\n"
   ]
  },
  {
   "cell_type": "code",
   "execution_count": null,
   "metadata": {},
   "outputs": [],
   "source": []
  },
  {
   "cell_type": "markdown",
   "metadata": {},
   "source": []
  },
  {
   "cell_type": "code",
   "execution_count": 31,
   "metadata": {},
   "outputs": [
    {
     "data": {
      "text/plain": [
       "array([[0.5161854]])"
      ]
     },
     "execution_count": 31,
     "metadata": {},
     "output_type": "execute_result"
    }
   ],
   "source": [
    "\n",
    "from sklearn.metrics.pairwise import cosine_similarity\n",
    "import numpy as np\n",
    "\n",
    "a= np.array([[2,1,0,3,1,2]])\n",
    "b= np.array([[1,0,3,1,2,1]])\n",
    "\n",
    "cosine_similarity(a,b)"
   ]
  },
  {
   "cell_type": "markdown",
   "metadata": {},
   "source": []
  }
 ],
 "metadata": {
  "kernelspec": {
   "display_name": "Python 3",
   "language": "python",
   "name": "python3"
  },
  "language_info": {
   "codemirror_mode": {
    "name": "ipython",
    "version": 3
   },
   "file_extension": ".py",
   "mimetype": "text/x-python",
   "name": "python",
   "nbconvert_exporter": "python",
   "pygments_lexer": "ipython3",
   "version": "3.12.3"
  }
 },
 "nbformat": 4,
 "nbformat_minor": 2
}
